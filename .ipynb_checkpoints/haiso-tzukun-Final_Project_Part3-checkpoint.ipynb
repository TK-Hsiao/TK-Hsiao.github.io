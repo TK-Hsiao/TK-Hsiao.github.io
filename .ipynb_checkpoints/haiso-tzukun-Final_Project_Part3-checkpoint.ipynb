{
 "cells": [
  {
   "cell_type": "markdown",
   "metadata": {},
   "source": [
    "# Inpatient Charge in the United States\n",
    "### DataViz Final Project Part 3\n",
    "- Spring 2020\n",
    "- Author: Tzu-Kun Hsiao\n",
    "- NetID: tkhsiao2"
   ]
  },
  {
   "cell_type": "markdown",
   "metadata": {},
   "source": [
    "## Project Goal\n",
    "\n",
    "This project aims to interactively visualize the inpatient charge data of the most common 30 clinical conditions in the United States in 2017 (fiscal year). Through the visualizations, people can interactively explore the number of discharges of each clinical condition, the charges covered by Medicare, the average total payments to the providers, and the average amount paid by Medicare to the providers in 51 states and the cities in the U.S.\n",
    "\n",
    "\n",
    "Three visualizations were presented in this project: a central interactive visualization and two contextual visualizations. The central interactive visualization provided a way to explore the number of discharges, the charges covered by Medicare, the average total payments to the providers, and the average amount paid by Medicare to the providers of the 30 most common clinical conditions in each state. The two contextual visualizations were for exploring the number of discharges, the charges covered by Medicare, the average total payments to the providers, and the average amount paid by Medicare to the providers in the cities in each state.\n"
   ]
  },
  {
   "cell_type": "code",
   "execution_count": 1,
   "metadata": {},
   "outputs": [],
   "source": [
    "import pandas as pd\n",
    "import numpy as np\n",
    "import bqplot\n",
    "import matplotlib.pyplot as plt\n",
    "import matplotlib\n",
    "import ipywidgets\n",
    "from ipywidgets import Layout\n",
    "import geopandas\n",
    "\n",
    "\n",
    "%matplotlib inline"
   ]
  },
  {
   "cell_type": "markdown",
   "metadata": {},
   "source": [
    "# 1. Central interactive visualization featuring the primary dataset\n",
    "\n",
    "## 1.1 Import dataset and get the subset of 30 most common clinical conditions\n",
    "- Dataset: [State Summary of Inpatient Charge Data by Medicare Severity Diagnosis Related Group (MS-DRG), FY2017](https://data.cms.gov/Medicare-Inpatient/State-Summary-of-Inpatient-Charge-Data-by-Medicare/q5hc-zvkx)\n",
    "\n",
    "\n",
    "- The dataset contains 736 clinical conditions. The number of clinical conditions is too large for making a meaningful plot. Hence, in this project, only the 30 most common clinical conditions are selected as the subjects of interest for making the plot."
   ]
  },
  {
   "cell_type": "code",
   "execution_count": 2,
   "metadata": {},
   "outputs": [
    {
     "name": "stdout",
     "output_type": "stream",
     "text": [
      "(27543, 8)\n",
      "DRG Definition               27543\n",
      "Provider State               27543\n",
      "Total Discharges             27543\n",
      "Average Covered Charges      27543\n",
      "Average Total Payments       27543\n",
      "Average Medicare Payments    27543\n",
      "drg_id                       27543\n",
      "drg_name                     27543\n",
      "dtype: int64\n",
      "DRG Definition                 736\n",
      "Provider State                  51\n",
      "Total Discharges              2395\n",
      "Average Covered Charges      27510\n",
      "Average Total Payments       27381\n",
      "Average Medicare Payments    27368\n",
      "drg_id                         736\n",
      "drg_name                       736\n",
      "dtype: int64\n"
     ]
    },
    {
     "data": {
      "text/html": [
       "<div>\n",
       "<style scoped>\n",
       "    .dataframe tbody tr th:only-of-type {\n",
       "        vertical-align: middle;\n",
       "    }\n",
       "\n",
       "    .dataframe tbody tr th {\n",
       "        vertical-align: top;\n",
       "    }\n",
       "\n",
       "    .dataframe thead th {\n",
       "        text-align: right;\n",
       "    }\n",
       "</style>\n",
       "<table border=\"1\" class=\"dataframe\">\n",
       "  <thead>\n",
       "    <tr style=\"text-align: right;\">\n",
       "      <th></th>\n",
       "      <th>DRG Definition</th>\n",
       "      <th>Provider State</th>\n",
       "      <th>Total Discharges</th>\n",
       "      <th>Average Covered Charges</th>\n",
       "      <th>Average Total Payments</th>\n",
       "      <th>Average Medicare Payments</th>\n",
       "      <th>drg_id</th>\n",
       "      <th>drg_name</th>\n",
       "    </tr>\n",
       "  </thead>\n",
       "  <tbody>\n",
       "    <tr>\n",
       "      <td>0</td>\n",
       "      <td>001 - HEART TRANSPLANT OR IMPLANT OF HEART ASS...</td>\n",
       "      <td>OR</td>\n",
       "      <td>11</td>\n",
       "      <td>561665.0</td>\n",
       "      <td>281456.09</td>\n",
       "      <td>229310.82</td>\n",
       "      <td>001</td>\n",
       "      <td>HEART TRANSPLANT OR IMPLANT OF HEART ASSIST SY...</td>\n",
       "    </tr>\n",
       "  </tbody>\n",
       "</table>\n",
       "</div>"
      ],
      "text/plain": [
       "                                      DRG Definition Provider State  \\\n",
       "0  001 - HEART TRANSPLANT OR IMPLANT OF HEART ASS...             OR   \n",
       "\n",
       "   Total Discharges  Average Covered Charges  Average Total Payments  \\\n",
       "0                11                 561665.0               281456.09   \n",
       "\n",
       "   Average Medicare Payments drg_id  \\\n",
       "0                  229310.82    001   \n",
       "\n",
       "                                            drg_name  \n",
       "0  HEART TRANSPLANT OR IMPLANT OF HEART ASSIST SY...  "
      ]
     },
     "execution_count": 2,
     "metadata": {},
     "output_type": "execute_result"
    }
   ],
   "source": [
    "data = pd.read_csv(\"ProjectData/State_Summary_of_Inpatient_Charge_Data_by_Medicare_Severity_Diagnosis_Related_Group__MS-DRG___FY2017.csv\")\n",
    "data = data.round(2)\n",
    "\n",
    "data['drg_id'] = data['DRG Definition'].str.split(' - ').str[0].str.strip()\n",
    "data['drg_name'] = data['DRG Definition'].str.split(' - ').str[1].str.strip()\n",
    "\n",
    "\n",
    "print(data.shape)\n",
    "print(data.count())\n",
    "print(data.nunique())\n",
    "\n",
    "data.head(1)\n"
   ]
  },
  {
   "cell_type": "code",
   "execution_count": 3,
   "metadata": {},
   "outputs": [],
   "source": [
    "discharge_count = data.groupby(['drg_id'])[['Total Discharges']].sum()\n",
    "discharge_count = discharge_count.rename(columns={'Total Discharges':'sum_of_total_discharges'})\n",
    "discharge_count = discharge_count.sort_values(['sum_of_total_discharges'], ascending=False)\n",
    "discharge_top30 = discharge_count.head(30)\n",
    "#discharge_top30"
   ]
  },
  {
   "cell_type": "code",
   "execution_count": 4,
   "metadata": {},
   "outputs": [
    {
     "name": "stdout",
     "output_type": "stream",
     "text": [
      "(1530, 8)\n",
      "DRG Definition                 30\n",
      "Provider State                 51\n",
      "Total Discharges             1298\n",
      "Average Covered Charges      1530\n",
      "Average Total Payments       1529\n",
      "Average Medicare Payments    1528\n",
      "drg_id                         30\n",
      "drg_name                       30\n",
      "dtype: int64\n"
     ]
    },
    {
     "data": {
      "text/html": [
       "<div>\n",
       "<style scoped>\n",
       "    .dataframe tbody tr th:only-of-type {\n",
       "        vertical-align: middle;\n",
       "    }\n",
       "\n",
       "    .dataframe tbody tr th {\n",
       "        vertical-align: top;\n",
       "    }\n",
       "\n",
       "    .dataframe thead th {\n",
       "        text-align: right;\n",
       "    }\n",
       "</style>\n",
       "<table border=\"1\" class=\"dataframe\">\n",
       "  <thead>\n",
       "    <tr style=\"text-align: right;\">\n",
       "      <th></th>\n",
       "      <th>DRG Definition</th>\n",
       "      <th>Provider State</th>\n",
       "      <th>Total Discharges</th>\n",
       "      <th>Average Covered Charges</th>\n",
       "      <th>Average Total Payments</th>\n",
       "      <th>Average Medicare Payments</th>\n",
       "      <th>drg_id</th>\n",
       "      <th>drg_name</th>\n",
       "    </tr>\n",
       "  </thead>\n",
       "  <tbody>\n",
       "    <tr>\n",
       "      <td>1773</td>\n",
       "      <td>064 - INTRACRANIAL HEMORRHAGE OR CEREBRAL INFA...</td>\n",
       "      <td>WY</td>\n",
       "      <td>60</td>\n",
       "      <td>30648.02</td>\n",
       "      <td>15041.63</td>\n",
       "      <td>13974.37</td>\n",
       "      <td>064</td>\n",
       "      <td>INTRACRANIAL HEMORRHAGE OR CEREBRAL INFARCTION...</td>\n",
       "    </tr>\n",
       "  </tbody>\n",
       "</table>\n",
       "</div>"
      ],
      "text/plain": [
       "                                         DRG Definition Provider State  \\\n",
       "1773  064 - INTRACRANIAL HEMORRHAGE OR CEREBRAL INFA...             WY   \n",
       "\n",
       "      Total Discharges  Average Covered Charges  Average Total Payments  \\\n",
       "1773                60                 30648.02                15041.63   \n",
       "\n",
       "      Average Medicare Payments drg_id  \\\n",
       "1773                   13974.37    064   \n",
       "\n",
       "                                               drg_name  \n",
       "1773  INTRACRANIAL HEMORRHAGE OR CEREBRAL INFARCTION...  "
      ]
     },
     "execution_count": 4,
     "metadata": {},
     "output_type": "execute_result"
    }
   ],
   "source": [
    "data_subset = data.loc[data.drg_id.isin(discharge_top30.index)].copy()\n",
    "print(data_subset.shape)\n",
    "#print(data_subset.count())\n",
    "print(data_subset.nunique())\n",
    "\n",
    "data_subset.head(1)"
   ]
  },
  {
   "cell_type": "markdown",
   "metadata": {},
   "source": [
    "## 1.2 Transform data into a numpy 3-D array for making the interactive visualization"
   ]
  },
  {
   "cell_type": "code",
   "execution_count": 5,
   "metadata": {},
   "outputs": [],
   "source": [
    "def tranport_data(data_df, col_vals, idx_vals, val_column):\n",
    "    df_temp = pd.DataFrame(columns=col_vals, index=idx_vals).fillna(0)\n",
    "\n",
    "    for col_val in col_vals:\n",
    "        data_slice = data_df.loc[data_df['drg_id'] == col_val]\n",
    "        df_vals = data_slice[['Provider State', val_column]].values.tolist()\n",
    "        for val_pair in df_vals:\n",
    "            df_temp.at[val_pair[0], col_val] = val_pair[1]\n",
    "    \n",
    "    return df_temp\n",
    "    "
   ]
  },
  {
   "cell_type": "code",
   "execution_count": 6,
   "metadata": {},
   "outputs": [
    {
     "name": "stdout",
     "output_type": "stream",
     "text": [
      "(51, 30)\n",
      "(51, 30)\n",
      "(51, 30)\n",
      "(51, 30)\n"
     ]
    },
    {
     "data": {
      "text/plain": [
       "(4, 51, 30)"
      ]
     },
     "execution_count": 6,
     "metadata": {},
     "output_type": "execute_result"
    }
   ],
   "source": [
    "grid_vals_array = np.empty((51, 31))\n",
    "\n",
    "states = data_subset['Provider State'].unique().tolist()\n",
    "states.sort()\n",
    "drg = data_subset['drg_id'].unique().tolist()\n",
    "drg.sort()\n",
    "cost_items = ['Average Covered Charges', 'Average Total Payments', 'Average Medicare Payments']\n",
    "\n",
    "discharges = tranport_data(data_subset, drg, states, 'Total Discharges')\n",
    "print(discharges.shape)\n",
    "covered_charges = tranport_data(data_subset, drg, states, 'Average Covered Charges')\n",
    "print(covered_charges.shape)\n",
    "total_payments = tranport_data(data_subset, drg, states, 'Average Total Payments')\n",
    "print(total_payments.shape)\n",
    "medicare_payments = tranport_data(data_subset, drg, states, 'Average Medicare Payments')\n",
    "print(medicare_payments.shape)\n",
    "\n",
    "discharges = discharges.to_numpy()\n",
    "covered_charges = covered_charges.to_numpy()\n",
    "total_payments = total_payments.to_numpy()\n",
    "medicare_payments = medicare_payments.to_numpy()\n",
    "\n",
    "grid_vals_array = np.concatenate((discharges, covered_charges, total_payments, medicare_payments), axis=0)\n",
    "grid_vals_array = grid_vals_array.reshape((4, 51, 30))\n",
    "\n",
    "grid_vals_array.shape"
   ]
  },
  {
   "cell_type": "markdown",
   "metadata": {},
   "source": [
    "## 1.3 The central interactive visualization\n",
    "\n",
    "The central interactive visualization included a heatmap (left panel) and a bar plot (right panel). Cell colors in the heatmap were scaled by the number of discharges of each clinical condition in each state. Through clicking on a cell in the heatmap, the right panel interactively plotted the average covered charges, the average total payments, and the average Medicare payments of the selected combination of the clinical condition and state name."
   ]
  },
  {
   "cell_type": "code",
   "execution_count": 7,
   "metadata": {},
   "outputs": [
    {
     "data": {
      "application/vnd.jupyter.widget-view+json": {
       "model_id": "067aff39d4e641f5826fec9bd2a51fae",
       "version_major": 2,
       "version_minor": 0
      },
      "text/plain": [
       "VBox(children=(Label(value=''), HBox(children=(Figure(axes=[ColorAxis(orientation='vertical', scale=ColorScale…"
      ]
     },
     "metadata": {},
     "output_type": "display_data"
    }
   ],
   "source": [
    "# CREATE LABEL - 1\n",
    "mySelectedLabel = ipywidgets.Label()\n",
    "\n",
    "# CREATE HEATMAP ELEMENTS -2 \n",
    "# scale\n",
    "x_sc = bqplot.OrdinalScale()\n",
    "y_sc = bqplot.OrdinalScale()\n",
    "c_sc = bqplot.ColorScale(scheme='BuPu')\n",
    "\n",
    "# axis\n",
    "x_ax = bqplot.Axis(scale=x_sc, tick_rotate=90, label='DRG_codes', \n",
    "                   tick_style={'font-size': 10})\n",
    "y_ax = bqplot.Axis(scale=y_sc, orientation='vertical', label = 'State', \n",
    "                   tick_style={'font-size': 10})\n",
    "c_ax = bqplot.ColorAxis(scale=c_sc, orientation='vertical', side='right')\n",
    "\n",
    "# mark\n",
    "heat_map = bqplot.GridHeatMap(color = grid_vals_array[0, :, :]/grid_vals_array[0, :, :].max(), \n",
    "                              scales = {'color':c_sc, 'row':y_sc, 'column': x_sc}, \n",
    "                              interactions = {'click':'select'},\n",
    "                              anchor_style = {'fill':'blue'}, \n",
    "                              row=states, column=drg, \n",
    "                              stroke='white')\n",
    "\n",
    "\n",
    "# CREATE LINE PLOT ELEMENTS -3\n",
    "# scale\n",
    "x_scl = bqplot.OrdinalScale()\n",
    "y_scl = bqplot.LinearScale(min=0, max=grid_vals_array.max()/1000) # set range of y\n",
    "c_scl = bqplot.ColorScale()\n",
    "\n",
    "# axis\n",
    "x_axl = bqplot.Axis(scale=x_scl, tick_rotate=10, grid_lines='none')\n",
    "\n",
    "y_axl = bqplot.Axis(scale=y_scl, tick_format='0.2f', orientation='vertical',\n",
    "                    label='US dollars (in thousands)')\n",
    "c_axl = bqplot.ColorAxis(scale=c_scl)\n",
    "\n",
    "# mark\n",
    "bar_ticks = ['covered_charges', 'total_payments', 'medicare_payments']\n",
    "bar_plot = bqplot.Bars(x = bar_ticks, y = np.arange(3)*0,\n",
    "                       colors = ['#609EFC'],\n",
    "                       scales = {'y':y_scl, 'x': x_scl})\n",
    "\n",
    "# LINKING LINE PLOT WITH HEATMAP -4\n",
    "def on_selected_3d(change):\n",
    "    if len(change['owner'].selected) == 1: # only 1 selection per time allowed\n",
    "        j, i = change['owner'].selected[0] # get x & y indices\n",
    "        #print(j, i)\n",
    "        v = grid_vals_array[0, j, i] #grab data value at the (x, y) location (i.e., data points of each year)\n",
    "        mySelectedLabel.value = 'Discharges = ' + str(v)\n",
    "        # now including updates to the line plot\n",
    "        bar_plot.y = np.array([grid_vals_array[1, j, i]/1000, \n",
    "                               grid_vals_array[2, j, i]/1000, \n",
    "                               grid_vals_array[3, j, i]/1000])\n",
    "\n",
    "# create interaction through \"observe\"\n",
    "heat_map.observe(on_selected_3d, 'selected')\n",
    "\n",
    "# CREATE FIG OBJECT - 5\n",
    "fig_heatmap = bqplot.Figure(marks=[heat_map], axes=[c_ax, x_ax, y_ax])\n",
    "fig_bar = bqplot.Figure(marks=[bar_plot], axes=[x_axl, y_axl])\n",
    "\n",
    "fig_heatmap.layout.min_width='600px'\n",
    "fig_heatmap.layout.min_height='600px'\n",
    "\n",
    "fig_bar.layout.min_width='400px'\n",
    "fig_bar.layout.min_height='600px'\n",
    "\n",
    "\n",
    "plots = ipywidgets.HBox([fig_heatmap, fig_bar], layout=Layout(width='100%', height='100%'))\n",
    "\n",
    "myDashboard = ipywidgets.VBox([mySelectedLabel, plots], layout=Layout(width='100%', height='100%'))\n",
    "myDashboard"
   ]
  },
  {
   "cell_type": "markdown",
   "metadata": {},
   "source": [
    "# 2. Import contextual dataset\n",
    "\n",
    "- Dataset: [Inpatient Prospective Payment System (IPPS) Provider Summary for All Diagnosis-Related Groups (DRG) - FY2017](https://data.cms.gov/Medicare-Inpatient/Inpatient-Prospective-Payment-System-IPPS-Provider/tcsp-6e99)\n",
    "\n",
    "\n",
    "This dataset contains further information on the locations of providers."
   ]
  },
  {
   "cell_type": "code",
   "execution_count": 8,
   "metadata": {},
   "outputs": [
    {
     "name": "stdout",
     "output_type": "stream",
     "text": [
      "(196325, 14)\n"
     ]
    },
    {
     "data": {
      "text/html": [
       "<div>\n",
       "<style scoped>\n",
       "    .dataframe tbody tr th:only-of-type {\n",
       "        vertical-align: middle;\n",
       "    }\n",
       "\n",
       "    .dataframe tbody tr th {\n",
       "        vertical-align: top;\n",
       "    }\n",
       "\n",
       "    .dataframe thead th {\n",
       "        text-align: right;\n",
       "    }\n",
       "</style>\n",
       "<table border=\"1\" class=\"dataframe\">\n",
       "  <thead>\n",
       "    <tr style=\"text-align: right;\">\n",
       "      <th></th>\n",
       "      <th>DRG Definition</th>\n",
       "      <th>Provider Id</th>\n",
       "      <th>Provider Name</th>\n",
       "      <th>Provider Street Address</th>\n",
       "      <th>Provider City</th>\n",
       "      <th>Provider State</th>\n",
       "      <th>Provider Zip Code</th>\n",
       "      <th>Hospital Referral Region (HRR) Description</th>\n",
       "      <th>Total Discharges</th>\n",
       "      <th>Average Covered Charges</th>\n",
       "      <th>Average Total Payments</th>\n",
       "      <th>Average Medicare Payments</th>\n",
       "      <th>drg_id</th>\n",
       "      <th>drg_name</th>\n",
       "    </tr>\n",
       "  </thead>\n",
       "  <tbody>\n",
       "    <tr>\n",
       "      <td>0</td>\n",
       "      <td>023 - CRANIOTOMY W MAJOR DEVICE IMPLANT OR ACU...</td>\n",
       "      <td>10001</td>\n",
       "      <td>SOUTHEAST ALABAMA MEDICAL CENTER</td>\n",
       "      <td>1108 ROSS CLARK CIRCLE</td>\n",
       "      <td>DOTHAN</td>\n",
       "      <td>AL</td>\n",
       "      <td>36301</td>\n",
       "      <td>AL - Dothan</td>\n",
       "      <td>28</td>\n",
       "      <td>117117.79</td>\n",
       "      <td>25823.71</td>\n",
       "      <td>24057.39</td>\n",
       "      <td>023</td>\n",
       "      <td>CRANIOTOMY W MAJOR DEVICE IMPLANT OR ACUTE CNS...</td>\n",
       "    </tr>\n",
       "    <tr>\n",
       "      <td>1</td>\n",
       "      <td>025 - CRANIOTOMY &amp; ENDOVASCULAR INTRACRANIAL P...</td>\n",
       "      <td>10001</td>\n",
       "      <td>SOUTHEAST ALABAMA MEDICAL CENTER</td>\n",
       "      <td>1108 ROSS CLARK CIRCLE</td>\n",
       "      <td>DOTHAN</td>\n",
       "      <td>AL</td>\n",
       "      <td>36301</td>\n",
       "      <td>AL - Dothan</td>\n",
       "      <td>32</td>\n",
       "      <td>98357.56</td>\n",
       "      <td>20688.34</td>\n",
       "      <td>19791.41</td>\n",
       "      <td>025</td>\n",
       "      <td>CRANIOTOMY &amp; ENDOVASCULAR INTRACRANIAL PROCEDU...</td>\n",
       "    </tr>\n",
       "    <tr>\n",
       "      <td>2</td>\n",
       "      <td>027 - CRANIOTOMY &amp; ENDOVASCULAR INTRACRANIAL P...</td>\n",
       "      <td>10001</td>\n",
       "      <td>SOUTHEAST ALABAMA MEDICAL CENTER</td>\n",
       "      <td>1108 ROSS CLARK CIRCLE</td>\n",
       "      <td>DOTHAN</td>\n",
       "      <td>AL</td>\n",
       "      <td>36301</td>\n",
       "      <td>AL - Dothan</td>\n",
       "      <td>11</td>\n",
       "      <td>69153.55</td>\n",
       "      <td>11811.18</td>\n",
       "      <td>8194.36</td>\n",
       "      <td>027</td>\n",
       "      <td>CRANIOTOMY &amp; ENDOVASCULAR INTRACRANIAL PROCEDU...</td>\n",
       "    </tr>\n",
       "    <tr>\n",
       "      <td>3</td>\n",
       "      <td>037 - EXTRACRANIAL PROCEDURES W MCC</td>\n",
       "      <td>10001</td>\n",
       "      <td>SOUTHEAST ALABAMA MEDICAL CENTER</td>\n",
       "      <td>1108 ROSS CLARK CIRCLE</td>\n",
       "      <td>DOTHAN</td>\n",
       "      <td>AL</td>\n",
       "      <td>36301</td>\n",
       "      <td>AL - Dothan</td>\n",
       "      <td>12</td>\n",
       "      <td>100427.33</td>\n",
       "      <td>19134.00</td>\n",
       "      <td>18154.00</td>\n",
       "      <td>037</td>\n",
       "      <td>EXTRACRANIAL PROCEDURES W MCC</td>\n",
       "    </tr>\n",
       "    <tr>\n",
       "      <td>4</td>\n",
       "      <td>038 - EXTRACRANIAL PROCEDURES W CC</td>\n",
       "      <td>10001</td>\n",
       "      <td>SOUTHEAST ALABAMA MEDICAL CENTER</td>\n",
       "      <td>1108 ROSS CLARK CIRCLE</td>\n",
       "      <td>DOTHAN</td>\n",
       "      <td>AL</td>\n",
       "      <td>36301</td>\n",
       "      <td>AL - Dothan</td>\n",
       "      <td>17</td>\n",
       "      <td>58199.47</td>\n",
       "      <td>8519.47</td>\n",
       "      <td>6714.88</td>\n",
       "      <td>038</td>\n",
       "      <td>EXTRACRANIAL PROCEDURES W CC</td>\n",
       "    </tr>\n",
       "  </tbody>\n",
       "</table>\n",
       "</div>"
      ],
      "text/plain": [
       "                                      DRG Definition Provider Id  \\\n",
       "0  023 - CRANIOTOMY W MAJOR DEVICE IMPLANT OR ACU...       10001   \n",
       "1  025 - CRANIOTOMY & ENDOVASCULAR INTRACRANIAL P...       10001   \n",
       "2  027 - CRANIOTOMY & ENDOVASCULAR INTRACRANIAL P...       10001   \n",
       "3                037 - EXTRACRANIAL PROCEDURES W MCC       10001   \n",
       "4                 038 - EXTRACRANIAL PROCEDURES W CC       10001   \n",
       "\n",
       "                      Provider Name Provider Street Address Provider City  \\\n",
       "0  SOUTHEAST ALABAMA MEDICAL CENTER  1108 ROSS CLARK CIRCLE        DOTHAN   \n",
       "1  SOUTHEAST ALABAMA MEDICAL CENTER  1108 ROSS CLARK CIRCLE        DOTHAN   \n",
       "2  SOUTHEAST ALABAMA MEDICAL CENTER  1108 ROSS CLARK CIRCLE        DOTHAN   \n",
       "3  SOUTHEAST ALABAMA MEDICAL CENTER  1108 ROSS CLARK CIRCLE        DOTHAN   \n",
       "4  SOUTHEAST ALABAMA MEDICAL CENTER  1108 ROSS CLARK CIRCLE        DOTHAN   \n",
       "\n",
       "  Provider State  Provider Zip Code  \\\n",
       "0             AL              36301   \n",
       "1             AL              36301   \n",
       "2             AL              36301   \n",
       "3             AL              36301   \n",
       "4             AL              36301   \n",
       "\n",
       "  Hospital Referral Region (HRR) Description  Total Discharges  \\\n",
       "0                                AL - Dothan                28   \n",
       "1                                AL - Dothan                32   \n",
       "2                                AL - Dothan                11   \n",
       "3                                AL - Dothan                12   \n",
       "4                                AL - Dothan                17   \n",
       "\n",
       "   Average Covered Charges  Average Total Payments  Average Medicare Payments  \\\n",
       "0                117117.79                25823.71                   24057.39   \n",
       "1                 98357.56                20688.34                   19791.41   \n",
       "2                 69153.55                11811.18                    8194.36   \n",
       "3                100427.33                19134.00                   18154.00   \n",
       "4                 58199.47                 8519.47                    6714.88   \n",
       "\n",
       "  drg_id                                           drg_name  \n",
       "0    023  CRANIOTOMY W MAJOR DEVICE IMPLANT OR ACUTE CNS...  \n",
       "1    025  CRANIOTOMY & ENDOVASCULAR INTRACRANIAL PROCEDU...  \n",
       "2    027  CRANIOTOMY & ENDOVASCULAR INTRACRANIAL PROCEDU...  \n",
       "3    037                      EXTRACRANIAL PROCEDURES W MCC  \n",
       "4    038                       EXTRACRANIAL PROCEDURES W CC  "
      ]
     },
     "execution_count": 8,
     "metadata": {},
     "output_type": "execute_result"
    }
   ],
   "source": [
    "contxt_data = pd.read_csv('ProjectData/Inpatient_Prospective_Payment_System__IPPS__Provider_Summary_for_All_Diagnosis-Related_Groups__DRG__-_FY2017.csv')\n",
    "contxt_data['Provider Id'] = contxt_data['Provider Id'].astype(str)\n",
    "\n",
    "contxt_data['drg_id'] = contxt_data['DRG Definition'].str.split(' - ').str[0].str.strip()\n",
    "contxt_data['drg_name'] = contxt_data['DRG Definition'].str.split(' - ').str[1].str.strip()\n",
    "\n",
    "print(contxt_data.shape)\n",
    "contxt_data.head()"
   ]
  },
  {
   "cell_type": "markdown",
   "metadata": {},
   "source": [
    "# 2. Get subset of contextual data.\n",
    "- The subset is the the rows having the same clinical conditions (drg_id) as the data used for plotting the main interactive visualization."
   ]
  },
  {
   "cell_type": "code",
   "execution_count": 9,
   "metadata": {},
   "outputs": [],
   "source": [
    "contxt_data_subset = contxt_data.loc[contxt_data.drg_id.isin(data_subset.drg_id.unique().tolist())].copy()"
   ]
  },
  {
   "cell_type": "markdown",
   "metadata": {},
   "source": [
    "## 2.1 Contextual visualizations 1\n",
    "\n",
    "This contextual visualization was constituted of a U.S. map (left panel) and a bar plot (right panel). The U.S. map presented the distribution of the total number of discharges in the 51 states. The darker the color, the higher the total number of discharges were. The dropdown menu provided a list of the abbreviations of the names of the 51 states. Through selecting the state name, the right panel interactively visualized the total number of discharges in the cities in the selected state. The purpose of making this visualization was to provide a way to explore the number of discharges at the city level."
   ]
  },
  {
   "cell_type": "code",
   "execution_count": 10,
   "metadata": {},
   "outputs": [
    {
     "data": {
      "application/vnd.jupyter.widget-view+json": {
       "model_id": "752c071b82524b1aa386b1100aa88253",
       "version_major": 2,
       "version_minor": 0
      },
      "text/plain": [
       "interactive(children=(Dropdown(description='State', options=('AL', 'AK', 'AZ', 'AR', 'CA', 'CO', 'CT', 'DE', '…"
      ]
     },
     "metadata": {},
     "output_type": "display_data"
    }
   ],
   "source": [
    "\n",
    "x_choices = contxt_data_subset['Provider State'].unique().tolist()\n",
    "\n",
    "#gdf_states = geopandas.read_file('https://www2.census.gov/geo/tiger/TIGER2019/STATE/tl_2019_us_state.zip')\n",
    "gdf_states = geopandas.read_file('ProjectData/tl_2019_us_state/tl_2019_us_state.shp')\n",
    "\n",
    "charge_in_states = contxt_data_subset[['Provider State', 'Total Discharges']].groupby(['Provider State']).sum().reset_index()\n",
    "charge_in_states = charge_in_states.rename(columns={'Provider State':'STUSPS'})\n",
    "gdf_states = gdf_states.merge(charge_in_states, how='left')\n",
    "gdf_states['Total Discharges'] = gdf_states['Total Discharges'].fillna(0)\n",
    "cmap = plt.cm.BuPu\n",
    "norm = matplotlib.colors.Normalize(vmin=gdf_states['Total Discharges'].min(), \n",
    "                                   vmax=gdf_states['Total Discharges'].max())\n",
    "\n",
    "@ipywidgets.interact(State=x_choices)\n",
    "def plot_bars(State):    \n",
    "    state_subset = contxt_data_subset.loc[contxt_data_subset['Provider State'] == State]\n",
    "    state_subset = state_subset.groupby(['Provider City'])[['Total Discharges']].sum()\n",
    "    state_subset = state_subset.sort_values(by = ['Total Discharges'])\n",
    "        \n",
    "    x_val = state_subset.index\n",
    "    y_val = state_subset['Total Discharges']\n",
    "\n",
    "    fig, ax = plt.subplots(1, 2, figsize=(20, 10))\n",
    "    \n",
    "    gdf_states.plot(ax=ax[0], color=cmap(norm(gdf_states['Total Discharges'].values)))\n",
    "    ax[0].set_xlim(-180, -60) # lat\n",
    "    ax[0].set_ylim(15, 75) # lon\n",
    "    ax[0].set_xlabel('Total Discharges in the 51 states in the U.S.', size=14)\n",
    "    \n",
    "    sm = plt.cm.ScalarMappable(cmap=cmap, norm=norm)\n",
    "    plt.colorbar(sm, ax=ax[0])\n",
    "    \n",
    "    ax[1].barh(x_val, y_val, color='#165A69', height=0.8)\n",
    "    \n",
    "    ax[1].set_xlabel('Total Discharges in the Cities in '+ State, size=14)\n",
    "    \n",
    "    fig.tight_layout()\n",
    "\n",
    "    plt.xticks(rotation=90, size=14)\n",
    "    plt.show()"
   ]
  },
  {
   "cell_type": "markdown",
   "metadata": {},
   "source": [
    "## 2.2 Contextual visualizations 2\n",
    "\n",
    "This contextual visualization was an interactive dashboard. The dropdown menu provided a list of the abbreviations of the names of the 51 states. Through clicking the state name, the plot interactively showed the average covered charges, the average total payments, and the average Medicare payments in the cities in the selected state. In this visualization, people can explore the distribution of charges and payments at the city level interactively."
   ]
  },
  {
   "cell_type": "code",
   "execution_count": 11,
   "metadata": {},
   "outputs": [
    {
     "data": {
      "application/vnd.jupyter.widget-view+json": {
       "model_id": "fbabe0415fd04c9a998f9b5295001aff",
       "version_major": 2,
       "version_minor": 0
      },
      "text/plain": [
       "interactive(children=(Dropdown(description='State', options=('AL', 'AK', 'AZ', 'AR', 'CA', 'CO', 'CT', 'DE', '…"
      ]
     },
     "metadata": {},
     "output_type": "display_data"
    }
   ],
   "source": [
    "\n",
    "x_choices = contxt_data_subset['Provider State'].unique().tolist()\n",
    "\n",
    "@ipywidgets.interact(State=x_choices)\n",
    "def plot_lines(State):\n",
    "    \n",
    "    include_cols = ['Average Covered Charges', 'Average Total Payments', 'Average Medicare Payments']\n",
    "    \n",
    "    state_subset = contxt_data_subset.loc[contxt_data_subset['Provider State'] == State]\n",
    "    state_subset = state_subset.groupby(['Provider City'])[include_cols].mean()\n",
    "    \n",
    "    fig, ax = plt.subplots(figsize=(14, 8))\n",
    "    ax.set_xlabel('Cities in '+ State, size=14)\n",
    "    ax.set_ylabel('Charges/Payment', size=14)\n",
    "        \n",
    "    ax.plot(state_subset.index, state_subset['Average Covered Charges'], color='#165A69', linestyle='-')\n",
    "    ax.plot(state_subset.index, state_subset['Average Total Payments'], color='#165A69', linestyle='-.')\n",
    "    ax.plot(state_subset.index, state_subset['Average Medicare Payments'], color='#165A69', linestyle=':')\n",
    "    \n",
    "    ax.legend(include_cols)\n",
    "\n",
    "    plt.xticks(rotation=90, size=12)\n",
    "    plt.show()"
   ]
  },
  {
   "cell_type": "code",
   "execution_count": null,
   "metadata": {},
   "outputs": [],
   "source": []
  }
 ],
 "metadata": {
  "kernelspec": {
   "display_name": "Python 3",
   "language": "python",
   "name": "python3"
  },
  "language_info": {
   "codemirror_mode": {
    "name": "ipython",
    "version": 3
   },
   "file_extension": ".py",
   "mimetype": "text/x-python",
   "name": "python",
   "nbconvert_exporter": "python",
   "pygments_lexer": "ipython3",
   "version": "3.7.6"
  }
 },
 "nbformat": 4,
 "nbformat_minor": 2
}
